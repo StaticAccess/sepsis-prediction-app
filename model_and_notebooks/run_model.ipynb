{
  "nbformat": 4,
  "nbformat_minor": 0,
  "metadata": {
    "colab": {
      "provenance": []
    },
    "kernelspec": {
      "name": "python3",
      "display_name": "Python 3"
    },
    "language_info": {
      "name": "python"
    }
  },
  "cells": [
    {
      "cell_type": "code",
      "execution_count": 5,
      "metadata": {
        "colab": {
          "base_uri": "https://localhost:8080/"
        },
        "id": "fR1AGchHMpC5",
        "outputId": "658ea4b2-1c28-45b8-c409-1e876c478536"
      },
      "outputs": [
        {
          "output_type": "stream",
          "name": "stdout",
          "text": [
            "Prediction Outcome: Sepsis\n"
          ]
        }
      ],
      "source": [
        "import numpy as np\n",
        "import joblib\n",
        "import warnings\n",
        "\n",
        "warnings.filterwarnings(\"ignore\")\n",
        "model_file = 'best_model.pkl'\n",
        "loaded_model = joblib.load(model_file)\n",
        "\n",
        "new_features_set = [\n",
        "    3,\n",
        "    36,\n",
        "    7.2,\n",
        "    0,\n",
        "    0.03,\n",
        "    17,\n",
        "    28,\n",
        "    1.5,\n",
        "    0.7,\n",
        "    0.9,\n",
        "    0,\n",
        "    0,\n",
        "    8\n",
        "]\n",
        "\n",
        "input_vector = np.array(new_features_set).reshape(1, -1)\n",
        "result_prediction = loaded_model.predict(input_vector)\n",
        "final_result = \"Sepsis\" if result_prediction[0] == 1 else \"No Sepsis\"\n",
        "\n",
        "print(f\"Prediction Outcome: {final_result}\")\n"
      ]
    }
  ]
}